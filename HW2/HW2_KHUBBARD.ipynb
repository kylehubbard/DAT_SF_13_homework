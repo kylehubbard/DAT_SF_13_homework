{
 "metadata": {
  "name": "",
  "signature": "sha256:6fa427bcfecc27f0b8927eb9cfd56d7e4d8a502728584ac6e6a37843fe6c0e8c"
 },
 "nbformat": 3,
 "nbformat_minor": 0,
 "worksheets": [
  {
   "cells": [
    {
     "cell_type": "code",
     "collapsed": false,
     "input": [
      "# Homework 2"
     ],
     "language": "python",
     "metadata": {},
     "outputs": []
    },
    {
     "cell_type": "code",
     "collapsed": false,
     "input": [
      "# "
     ],
     "language": "python",
     "metadata": {},
     "outputs": []
    },
    {
     "cell_type": "code",
     "collapsed": false,
     "input": [
      "# import the necessary packages \n",
      "\n",
      "%matplotlib inline\n",
      "from __future__ import division\n",
      "import pandas as pd\n",
      "import numpy as np\n",
      "from seaborn import plt\n",
      "import matplotlib.pyplot as plt\n",
      "from sklearn.datasets import load_iris\n",
      "from matplotlib.colors import ListedColormap\n",
      "from sklearn import neighbors, datasets, feature_selection\n",
      "from sklearn.cross_validation import train_test_split, cross_val_score"
     ],
     "language": "python",
     "metadata": {},
     "outputs": [],
     "prompt_number": 1
    },
    {
     "cell_type": "code",
     "collapsed": false,
     "input": [
      "# 1. Implement KNN classification using the sklearn package. \n"
     ],
     "language": "python",
     "metadata": {},
     "outputs": [],
     "prompt_number": 2
    },
    {
     "cell_type": "code",
     "collapsed": false,
     "input": [
      "# Load in the data\n",
      "iris = datasets.load_iris()\n",
      "iris_df = pd.DataFrame(iris.data, columns=iris.feature_names)\n",
      "iris_df['Target'] = iris.target\n",
      "#iris_df.head()\n",
      "iris_df.describe()\n",
      "#iris_df.ix[:,0:4]"
     ],
     "language": "python",
     "metadata": {},
     "outputs": [
      {
       "html": [
        "<div style=\"max-height:1000px;max-width:1500px;overflow:auto;\">\n",
        "<table border=\"1\" class=\"dataframe\">\n",
        "  <thead>\n",
        "    <tr style=\"text-align: right;\">\n",
        "      <th></th>\n",
        "      <th>sepal length (cm)</th>\n",
        "      <th>sepal width (cm)</th>\n",
        "      <th>petal length (cm)</th>\n",
        "      <th>petal width (cm)</th>\n",
        "      <th>Target</th>\n",
        "    </tr>\n",
        "  </thead>\n",
        "  <tbody>\n",
        "    <tr>\n",
        "      <th>count</th>\n",
        "      <td> 150.000000</td>\n",
        "      <td> 150.000000</td>\n",
        "      <td> 150.000000</td>\n",
        "      <td> 150.000000</td>\n",
        "      <td> 150.000000</td>\n",
        "    </tr>\n",
        "    <tr>\n",
        "      <th>mean</th>\n",
        "      <td>   5.843333</td>\n",
        "      <td>   3.054000</td>\n",
        "      <td>   3.758667</td>\n",
        "      <td>   1.198667</td>\n",
        "      <td>   1.000000</td>\n",
        "    </tr>\n",
        "    <tr>\n",
        "      <th>std</th>\n",
        "      <td>   0.828066</td>\n",
        "      <td>   0.433594</td>\n",
        "      <td>   1.764420</td>\n",
        "      <td>   0.763161</td>\n",
        "      <td>   0.819232</td>\n",
        "    </tr>\n",
        "    <tr>\n",
        "      <th>min</th>\n",
        "      <td>   4.300000</td>\n",
        "      <td>   2.000000</td>\n",
        "      <td>   1.000000</td>\n",
        "      <td>   0.100000</td>\n",
        "      <td>   0.000000</td>\n",
        "    </tr>\n",
        "    <tr>\n",
        "      <th>25%</th>\n",
        "      <td>   5.100000</td>\n",
        "      <td>   2.800000</td>\n",
        "      <td>   1.600000</td>\n",
        "      <td>   0.300000</td>\n",
        "      <td>   0.000000</td>\n",
        "    </tr>\n",
        "    <tr>\n",
        "      <th>50%</th>\n",
        "      <td>   5.800000</td>\n",
        "      <td>   3.000000</td>\n",
        "      <td>   4.350000</td>\n",
        "      <td>   1.300000</td>\n",
        "      <td>   1.000000</td>\n",
        "    </tr>\n",
        "    <tr>\n",
        "      <th>75%</th>\n",
        "      <td>   6.400000</td>\n",
        "      <td>   3.300000</td>\n",
        "      <td>   5.100000</td>\n",
        "      <td>   1.800000</td>\n",
        "      <td>   2.000000</td>\n",
        "    </tr>\n",
        "    <tr>\n",
        "      <th>max</th>\n",
        "      <td>   7.900000</td>\n",
        "      <td>   4.400000</td>\n",
        "      <td>   6.900000</td>\n",
        "      <td>   2.500000</td>\n",
        "      <td>   2.000000</td>\n",
        "    </tr>\n",
        "  </tbody>\n",
        "</table>\n",
        "</div>"
       ],
       "metadata": {},
       "output_type": "pyout",
       "prompt_number": 3,
       "text": [
        "       sepal length (cm)  sepal width (cm)  petal length (cm)  \\\n",
        "count         150.000000        150.000000         150.000000   \n",
        "mean            5.843333          3.054000           3.758667   \n",
        "std             0.828066          0.433594           1.764420   \n",
        "min             4.300000          2.000000           1.000000   \n",
        "25%             5.100000          2.800000           1.600000   \n",
        "50%             5.800000          3.000000           4.350000   \n",
        "75%             6.400000          3.300000           5.100000   \n",
        "max             7.900000          4.400000           6.900000   \n",
        "\n",
        "       petal width (cm)      Target  \n",
        "count        150.000000  150.000000  \n",
        "mean           1.198667    1.000000  \n",
        "std            0.763161    0.819232  \n",
        "min            0.100000    0.000000  \n",
        "25%            0.300000    0.000000  \n",
        "50%            1.300000    1.000000  \n",
        "75%            1.800000    2.000000  \n",
        "max            2.500000    2.000000  "
       ]
      }
     ],
     "prompt_number": 3
    },
    {
     "cell_type": "code",
     "collapsed": false,
     "input": [
      "# Create the training (and test) set using scikit-learn's train_test_split function reserving 30% of the data for the test set\n",
      "X_train, X_test, y_train, y_test = train_test_split(iris_df.ix[:,0:4], iris_df.Target, test_size=0.3, random_state=12)\n"
     ],
     "language": "python",
     "metadata": {},
     "outputs": [],
     "prompt_number": 4
    },
    {
     "cell_type": "code",
     "collapsed": false,
     "input": [
      "# run the knn classifcation and assess the fit\n",
      "scores = []\n",
      "\n",
      "clf = neighbors.KNeighborsClassifier()\n",
      "clf.fit(X_train, y_train)\n",
      "scores.append(clf.score(X_test, y_test))\n",
      "\n",
      "print scores"
     ],
     "language": "python",
     "metadata": {},
     "outputs": [
      {
       "output_type": "stream",
       "stream": "stdout",
       "text": [
        "[0.97777777777777775]\n"
       ]
      }
     ],
     "prompt_number": 5
    },
    {
     "cell_type": "code",
     "collapsed": false,
     "input": [
      "# 2. implement cross-validation "
     ],
     "language": "python",
     "metadata": {},
     "outputs": [],
     "prompt_number": 6
    },
    {
     "cell_type": "code",
     "collapsed": false,
     "input": [
      "scores = cross_val_score(clf, iris_df.ix[:,0:4], iris_df.Target, cv=5)\n",
      "print scores\n",
      "print scores.mean()"
     ],
     "language": "python",
     "metadata": {},
     "outputs": [
      {
       "output_type": "stream",
       "stream": "stdout",
       "text": [
        "[ 0.96666667  1.          0.93333333  0.96666667  1.        ]\n",
        "0.973333333333\n"
       ]
      }
     ],
     "prompt_number": 7
    },
    {
     "cell_type": "code",
     "collapsed": false,
     "input": [
      "# 3. determine the hyperparameter for the optimal number of nearest neighbors"
     ],
     "language": "python",
     "metadata": {},
     "outputs": [],
     "prompt_number": 38
    },
    {
     "cell_type": "code",
     "collapsed": false,
     "input": [
      "# In class we created an object to assess the number of neighbors we would need to use for evaluating the data. \n",
      "# the hint suggests the number will be between 1 and 150, use \n",
      "n_neighbors = range(3, 51, 2)\n",
      "print n_neighbors"
     ],
     "language": "python",
     "metadata": {},
     "outputs": [
      {
       "output_type": "stream",
       "stream": "stdout",
       "text": [
        "[3, 5, 7, 9, 11, 13, 15, 17, 19, 21, 23, 25, 27, 29, 31, 33, 35, 37, 39, 41, 43, 45, 47, 49]\n"
       ]
      }
     ],
     "prompt_number": 11
    },
    {
     "cell_type": "code",
     "collapsed": false,
     "input": [
      "# Loop through each neighbors value from 1 to 51 and append\n",
      "# the scores\n",
      "scores = []\n",
      "for n in n_neighbors:\n",
      "    clf = neighbors.KNeighborsClassifier(n)\n",
      "    clf.fit(X_train, y_train)\n",
      "    scores.append(clf.score(X_test, y_test))"
     ],
     "language": "python",
     "metadata": {},
     "outputs": [],
     "prompt_number": 12
    },
    {
     "cell_type": "code",
     "collapsed": false,
     "input": [
      "# We select the optimal k which is the point where the maximum predicitive value is found\n",
      "n_score = pd.DataFrame(zip(n_neighbors,scores), columns=['N', 'score'])\n",
      "\n",
      "n = n_score.N[n_score['score'] == n_score.score.max() ]\n",
      "print n\n",
      "# I'm not sure why the row number is showing up...."
     ],
     "language": "python",
     "metadata": {},
     "outputs": [
      {
       "output_type": "stream",
       "stream": "stdout",
       "text": [
        "4    11\n",
        "Name: N, dtype: int64\n"
       ]
      }
     ],
     "prompt_number": 14
    },
    {
     "cell_type": "code",
     "collapsed": false,
     "input": [
      "#4 plot the classifier accuracy vs the hyperparameter k"
     ],
     "language": "python",
     "metadata": {},
     "outputs": [],
     "prompt_number": 15
    },
    {
     "cell_type": "code",
     "collapsed": false,
     "input": [
      "plt.plot(n_neighbors[0:20], scores[0:20], linewidth=3.0)\n",
      "\n",
      "# With k = 1 we have 100 percent accuracy since each observation references only itself. There is a peak at 15 which indicates our \n",
      "# optimal value of k is.\n",
      "# increasing the number of k decreases our accuracy. This is because there are too many observations to effectively predict the data"
     ],
     "language": "python",
     "metadata": {},
     "outputs": [
      {
       "metadata": {},
       "output_type": "pyout",
       "prompt_number": 16,
       "text": [
        "[<matplotlib.lines.Line2D at 0x19508358>]"
       ]
      },
      {
       "metadata": {},
       "output_type": "display_data",
       "png": "[encoded data removed]",
       "text": [
        "<matplotlib.figure.Figure at 0x4327208>"
       ]
      }
     ],
     "prompt_number": 16
    },
    {
     "cell_type": "code",
     "collapsed": false,
     "input": [
      "#5. implement your own cross-validation in python without using sklearn\n",
      "# if we use 5 folds then we want to sub divide the data into 5 equal sizes. each 30 ob test set will be held back and tested against \n",
      "# the other 90 obs. "
     ],
     "language": "python",
     "metadata": {},
     "outputs": [],
     "prompt_number": 17
    },
    {
     "cell_type": "code",
     "collapsed": false,
     "input": [
      "import random\n",
      "\n",
      "\n",
      "# pseudo code:\n",
      "# randomly sample the data without replacement to create n folds with len/n\n",
      "\n",
      "# The random sample will be the test set while the remaining data will be the training set\n",
      "\n",
      "# run the knn classfier and store the score\n",
      "\n",
      "# average the scores together \n",
      "\n",
      "# create a uid for the iris data to sample\n",
      "iris_df['uid'] = range(0,150)\n",
      "iris_df.describe()\n",
      "\n",
      "random.seed(12)\n",
      "\n",
      "scores = []\n",
      "scores_out = []\n",
      "ct = []\n",
      "rows = []\n",
      "# I want to create a statement that creates test sets that do not include the previously used test data\n",
      "\n",
      "while len(ct) <= 120:\n",
      "        #if 'ct' in locals():\n",
      "    rows = np.random.choice(iris_df.uid[~(iris_df.uid.isin(rows))], 30, replace = False)\n",
      "    test_df = iris_df.ix[rows]\n",
      "    train_df = iris_df[~(iris_df.uid.isin(rows))]\n",
      "            \n",
      "    clf = neighbors.KNeighborsClassifier()\n",
      "    clf.fit(train_df.ix[:,0:4],train_df.Target )\n",
      "    scores.append(clf.score(test_df.ix[:,0:4], test_df.Target))\n",
      "            \n",
      "    ct = np.append(ct,rows)\n",
      "   # print len(ct)\n",
      "   #print ct\n",
      "    scores_out = np.append(scores_out,scores)\n",
      "        \n",
      "print scores\n",
      "print np.mean(scores)    \n"
     ],
     "language": "python",
     "metadata": {},
     "outputs": [
      {
       "output_type": "stream",
       "stream": "stdout",
       "text": [
        "[1.0, 0.96666666666666667, 0.96666666666666667, 0.96666666666666667, 0.96666666666666667]\n",
        "0.973333333333\n"
       ]
      }
     ],
     "prompt_number": 19
    },
    {
     "cell_type": "code",
     "collapsed": false,
     "input": [
      "# 6. using K vary the number of folds use for cross- validation."
     ],
     "language": "python",
     "metadata": {},
     "outputs": []
    },
    {
     "cell_type": "code",
     "collapsed": false,
     "input": [
      "scores_out = []\n",
      "n_neighbors = range(2, 20)\n",
      "\n",
      "clf = neighbors.KNeighborsClassifier(11, weights='uniform')\n",
      "\n",
      "for n in n_neighbors:\n",
      "    scores = cross_val_score(clf, iris_df.ix[:,0:4], iris_df.Target, cv=n)\n",
      "    scores_out = np.append(scores_out,scores.mean())\n",
      "    \n",
      "print scores_out"
     ],
     "language": "python",
     "metadata": {},
     "outputs": [
      {
       "output_type": "stream",
       "stream": "stdout",
       "text": [
        "[ 0.94666667  0.97385621  0.9599359   0.98        0.98070988  0.98044218\n",
        "  0.97321429  0.96666667  0.96666667  0.97424242  0.97361111  0.96794872\n",
        "  0.96626984  0.96481481  0.96701389  0.97385621  0.97530864  0.97368421]\n"
       ]
      }
     ],
     "prompt_number": 179
    },
    {
     "cell_type": "code",
     "collapsed": false,
     "input": [
      "plt.plot(n_neighbors, scores_out, linewidth=3.0)\n"
     ],
     "language": "python",
     "metadata": {},
     "outputs": [
      {
       "metadata": {},
       "output_type": "pyout",
       "prompt_number": 180,
       "text": [
        "[<matplotlib.lines.Line2D at 0x1b0bc518>]"
       ]
      },
      {
       "metadata": {},
       "output_type": "display_data",
       "png": "[encoded data removed]",
       "text": [
        "<matplotlib.figure.Figure at 0x1b171f60>"
       ]
      }
     ],
     "prompt_number": 180
    },
    {
     "cell_type": "code",
     "collapsed": false,
     "input": [
      "# The classfier accuracy decreases with an increasing number of folds. \n",
      "# I think there is an optimal number of folds to use. \n",
      "# As indicated by the plot above it looks like in this case it is 6. \n",
      "# I think there is an optimum because as the number of subdivisions increases the test case gets smaller and may not have a\n",
      "# sufficient representative sample to accurately assess the models effectiveness.\n"
     ],
     "language": "python",
     "metadata": {},
     "outputs": []
    }
   ],
   "metadata": {}
  }
 ]
}