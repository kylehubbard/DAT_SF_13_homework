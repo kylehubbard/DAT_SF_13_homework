{
 "metadata": {
  "name": "",
  "signature": "sha256:d6ec82d100990a04d93e210fd551bbe8c079d00f42bd7f03fe65f506b7eb054b"
 },
 "nbformat": 3,
 "nbformat_minor": 0,
 "worksheets": [
  {
   "cells": [
    {
     "cell_type": "markdown",
     "metadata": {},
     "source": [
      "Homework 1"
     ]
    },
    {
     "cell_type": "raw",
     "metadata": {},
     "source": [
      "Change Directory"
     ]
    },
    {
     "cell_type": "code",
     "collapsed": false,
     "input": [
      "cd c:\\\\Users\\khubbard\\DataScience\\general_assembly\\DAT_SF_13\\homework"
     ],
     "language": "python",
     "metadata": {},
     "outputs": [
      {
       "output_type": "stream",
       "stream": "stdout",
       "text": [
        "c:\\Users\\khubbard\\DataScience\\general_assembly\\DAT_SF_13\\homework\n"
       ]
      }
     ],
     "prompt_number": 1
    },
    {
     "cell_type": "raw",
     "metadata": {},
     "source": [
      "Import modules"
     ]
    },
    {
     "cell_type": "code",
     "collapsed": false,
     "input": [
      "import pandas as pd\n",
      "import numpy as np\n",
      "import matplotlib.pyplot as plt\n",
      "%matplotlib inline\n",
      "\n",
      "#Floats only show two digits for display\n",
      "pd.set_option('display.precision', 2)"
     ],
     "language": "python",
     "metadata": {},
     "outputs": [],
     "prompt_number": 2
    },
    {
     "cell_type": "raw",
     "metadata": {},
     "source": [
      "read in titanic data"
     ]
    },
    {
     "cell_type": "code",
     "collapsed": false,
     "input": [
      "titanic_data = pd.read_csv('titanic.csv')"
     ],
     "language": "python",
     "metadata": {},
     "outputs": [],
     "prompt_number": 3
    },
    {
     "cell_type": "code",
     "collapsed": false,
     "input": [
      "type(titanic_data)"
     ],
     "language": "python",
     "metadata": {},
     "outputs": [
      {
       "metadata": {},
       "output_type": "pyout",
       "prompt_number": 6,
       "text": [
        "pandas.core.frame.DataFrame"
       ]
      }
     ],
     "prompt_number": 6
    },
    {
     "cell_type": "code",
     "collapsed": false,
     "input": [
      "titanic_data.head()"
     ],
     "language": "python",
     "metadata": {},
     "outputs": [
      {
       "html": [
        "<div style=\"max-height:1000px;max-width:1500px;overflow:auto;\">\n",
        "<table border=\"1\" class=\"dataframe\">\n",
        "  <thead>\n",
        "    <tr style=\"text-align: right;\">\n",
        "      <th></th>\n",
        "      <th>PassengerId</th>\n",
        "      <th>Survived</th>\n",
        "      <th>Pclass</th>\n",
        "      <th>Name</th>\n",
        "      <th>Sex</th>\n",
        "      <th>Age</th>\n",
        "      <th>SibSp</th>\n",
        "      <th>Parch</th>\n",
        "      <th>Ticket</th>\n",
        "      <th>Fare</th>\n",
        "      <th>Cabin</th>\n",
        "      <th>Embarked</th>\n",
        "    </tr>\n",
        "  </thead>\n",
        "  <tbody>\n",
        "    <tr>\n",
        "      <th>0</th>\n",
        "      <td> 1</td>\n",
        "      <td> 0</td>\n",
        "      <td> 3</td>\n",
        "      <td>                           Braund, Mr. Owen Harris</td>\n",
        "      <td>   male</td>\n",
        "      <td> 22</td>\n",
        "      <td> 1</td>\n",
        "      <td> 0</td>\n",
        "      <td>        A/5 21171</td>\n",
        "      <td>  7.2</td>\n",
        "      <td>  NaN</td>\n",
        "      <td> S</td>\n",
        "    </tr>\n",
        "    <tr>\n",
        "      <th>1</th>\n",
        "      <td> 2</td>\n",
        "      <td> 1</td>\n",
        "      <td> 1</td>\n",
        "      <td> Cumings, Mrs. John Bradley (Florence Briggs Th...</td>\n",
        "      <td> female</td>\n",
        "      <td> 38</td>\n",
        "      <td> 1</td>\n",
        "      <td> 0</td>\n",
        "      <td>         PC 17599</td>\n",
        "      <td> 71.3</td>\n",
        "      <td>  C85</td>\n",
        "      <td> C</td>\n",
        "    </tr>\n",
        "    <tr>\n",
        "      <th>2</th>\n",
        "      <td> 3</td>\n",
        "      <td> 1</td>\n",
        "      <td> 3</td>\n",
        "      <td>                            Heikkinen, Miss. Laina</td>\n",
        "      <td> female</td>\n",
        "      <td> 26</td>\n",
        "      <td> 0</td>\n",
        "      <td> 0</td>\n",
        "      <td> STON/O2. 3101282</td>\n",
        "      <td>  7.9</td>\n",
        "      <td>  NaN</td>\n",
        "      <td> S</td>\n",
        "    </tr>\n",
        "    <tr>\n",
        "      <th>3</th>\n",
        "      <td> 4</td>\n",
        "      <td> 1</td>\n",
        "      <td> 1</td>\n",
        "      <td>      Futrelle, Mrs. Jacques Heath (Lily May Peel)</td>\n",
        "      <td> female</td>\n",
        "      <td> 35</td>\n",
        "      <td> 1</td>\n",
        "      <td> 0</td>\n",
        "      <td>           113803</td>\n",
        "      <td> 53.1</td>\n",
        "      <td> C123</td>\n",
        "      <td> S</td>\n",
        "    </tr>\n",
        "    <tr>\n",
        "      <th>4</th>\n",
        "      <td> 5</td>\n",
        "      <td> 0</td>\n",
        "      <td> 3</td>\n",
        "      <td>                          Allen, Mr. William Henry</td>\n",
        "      <td>   male</td>\n",
        "      <td> 35</td>\n",
        "      <td> 0</td>\n",
        "      <td> 0</td>\n",
        "      <td>           373450</td>\n",
        "      <td>  8.1</td>\n",
        "      <td>  NaN</td>\n",
        "      <td> S</td>\n",
        "    </tr>\n",
        "  </tbody>\n",
        "</table>\n",
        "</div>"
       ],
       "metadata": {},
       "output_type": "pyout",
       "prompt_number": 7,
       "text": [
        "   PassengerId  Survived  Pclass  \\\n",
        "0            1         0       3   \n",
        "1            2         1       1   \n",
        "2            3         1       3   \n",
        "3            4         1       1   \n",
        "4            5         0       3   \n",
        "\n",
        "                                                Name     Sex  Age  SibSp  \\\n",
        "0                            Braund, Mr. Owen Harris    male   22      1   \n",
        "1  Cumings, Mrs. John Bradley (Florence Briggs Th...  female   38      1   \n",
        "2                             Heikkinen, Miss. Laina  female   26      0   \n",
        "3       Futrelle, Mrs. Jacques Heath (Lily May Peel)  female   35      1   \n",
        "4                           Allen, Mr. William Henry    male   35      0   \n",
        "\n",
        "   Parch            Ticket  Fare Cabin Embarked  \n",
        "0      0         A/5 21171   7.2   NaN        S  \n",
        "1      0          PC 17599  71.3   C85        C  \n",
        "2      0  STON/O2. 3101282   7.9   NaN        S  \n",
        "3      0            113803  53.1  C123        S  \n",
        "4      0            373450   8.1   NaN        S  "
       ]
      }
     ],
     "prompt_number": 7
    },
    {
     "cell_type": "code",
     "collapsed": false,
     "input": [
      "#1. How many passengers are in the passenger list? \n",
      "    #Assuming each row represents a passenger then the number of rows gives us the answer which is 891. \n",
      "    #The dataset we worked on in class had more rows so I assume all questions relate to this subset of data."
     ],
     "language": "python",
     "metadata": {},
     "outputs": []
    },
    {
     "cell_type": "code",
     "collapsed": false,
     "input": [
      "passenger_count = len(titanic_data.index)\n",
      "\n",
      "print (\"The number of passengers in the list is {}\").format(passenger_count) "
     ],
     "language": "python",
     "metadata": {},
     "outputs": [
      {
       "output_type": "stream",
       "stream": "stdout",
       "text": [
        "The number of passengers in the list 891\n"
       ]
      }
     ],
     "prompt_number": 4
    },
    {
     "cell_type": "code",
     "collapsed": false,
     "input": [
      "# 2. what is the overall survival rate\n",
      "    # the survival rate is the ( number that survived / total number of passengers)\n",
      "    # I realize there are more elegant ways to do this but I could not figure them out. "
     ],
     "language": "python",
     "metadata": {},
     "outputs": []
    },
    {
     "cell_type": "code",
     "collapsed": false,
     "input": [
      "titanic_data['Survived'].value_counts()"
     ],
     "language": "python",
     "metadata": {},
     "outputs": [
      {
       "metadata": {},
       "output_type": "pyout",
       "prompt_number": 6,
       "text": [
        "0    549\n",
        "1    342\n",
        "dtype: int64"
       ]
      }
     ],
     "prompt_number": 6
    },
    {
     "cell_type": "code",
     "collapsed": false,
     "input": [
      "survived = titanic_data[titanic_data['Survived'] ==1 ]"
     ],
     "language": "python",
     "metadata": {},
     "outputs": [],
     "prompt_number": 7
    },
    {
     "cell_type": "code",
     "collapsed": false,
     "input": [
      "len(survived)"
     ],
     "language": "python",
     "metadata": {},
     "outputs": [
      {
       "metadata": {},
       "output_type": "pyout",
       "prompt_number": 8,
       "text": [
        "342"
       ]
      }
     ],
     "prompt_number": 8
    },
    {
     "cell_type": "code",
     "collapsed": false,
     "input": [
      "# survival rate\n",
      "survival_rate = round(len(survived) / float(len(titanic_data.index)),2)\n",
      "\n",
      "print (\"The survival rate is {}\").format(survival_rate)"
     ],
     "language": "python",
     "metadata": {},
     "outputs": [
      {
       "output_type": "stream",
       "stream": "stdout",
       "text": [
        "The survival rate is 0.38\n"
       ]
      }
     ],
     "prompt_number": 9
    },
    {
     "cell_type": "code",
     "collapsed": false,
     "input": [
      "# 3. How many male passengers were onboard?\n",
      "    # It looks like there are 577 male"
     ],
     "language": "python",
     "metadata": {},
     "outputs": []
    },
    {
     "cell_type": "code",
     "collapsed": false,
     "input": [
      "male = titanic_data[titanic_data['Sex'] == 'male']"
     ],
     "language": "python",
     "metadata": {},
     "outputs": [],
     "prompt_number": 11
    },
    {
     "cell_type": "code",
     "collapsed": false,
     "input": [
      "male_count = len(male)\n",
      "print (\"The number of male passengers onboard is {}\").format(male_count)"
     ],
     "language": "python",
     "metadata": {},
     "outputs": [
      {
       "output_type": "stream",
       "stream": "stdout",
       "text": [
        "The number of male passengers onboard is 577\n"
       ]
      }
     ],
     "prompt_number": 12
    },
    {
     "cell_type": "code",
     "collapsed": false,
     "input": [
      "# 4. How many female passengsers were onboard?\n",
      "    #There are 314 female passengers"
     ],
     "language": "python",
     "metadata": {},
     "outputs": [],
     "prompt_number": 15
    },
    {
     "cell_type": "code",
     "collapsed": false,
     "input": [
      "female = titanic_data[titanic_data['Sex'] =='female' ]\n",
      "female_count = len(female)\n",
      "print (\"The number of female passengers on board is {}\").format(female_count)"
     ],
     "language": "python",
     "metadata": {},
     "outputs": [
      {
       "output_type": "stream",
       "stream": "stdout",
       "text": [
        "The number of female passengers on board is 314\n"
       ]
      }
     ],
     "prompt_number": 14
    },
    {
     "cell_type": "code",
     "collapsed": false,
     "input": [
      "# 5. What is the overall survival rate of male passengers?\n",
      "    # We want ((Survived ==1 and sex == male)/ total number of male) = 19%"
     ],
     "language": "python",
     "metadata": {},
     "outputs": [],
     "prompt_number": 17
    },
    {
     "cell_type": "code",
     "collapsed": false,
     "input": [
      "male_survived = male[male['Survived'] == 1]"
     ],
     "language": "python",
     "metadata": {},
     "outputs": [],
     "prompt_number": 16
    },
    {
     "cell_type": "code",
     "collapsed": false,
     "input": [
      "male_survived['Survived'].value_counts()"
     ],
     "language": "python",
     "metadata": {},
     "outputs": [
      {
       "metadata": {},
       "output_type": "pyout",
       "prompt_number": 17,
       "text": [
        "1    109\n",
        "dtype: int64"
       ]
      }
     ],
     "prompt_number": 17
    },
    {
     "cell_type": "code",
     "collapsed": false,
     "input": [
      "male_survival_rate = round(len(male_survived) / float(len(male)),2)\n",
      "\n",
      "print (\"The male survival rate is {}\").format(male_survival_rate)"
     ],
     "language": "python",
     "metadata": {},
     "outputs": [
      {
       "output_type": "stream",
       "stream": "stdout",
       "text": [
        "The male survival rate is 0.19\n"
       ]
      }
     ],
     "prompt_number": 18
    },
    {
     "cell_type": "code",
     "collapsed": false,
     "input": [
      "# 6. What is the overall survival rate of female passengers? \n",
      "    # we want ((Survived = 1 and sex = female) / total number of female) = 75%"
     ],
     "language": "python",
     "metadata": {},
     "outputs": []
    },
    {
     "cell_type": "code",
     "collapsed": false,
     "input": [
      "female_survival_rate = round(len(survived[survived['Sex'] =='female'])/ float(len(titanic_data[titanic_data['Sex'] =='female'])), 2)\n",
      "\n",
      "print (\"The female survival rate is {}\").format(female_survival_rate)\n",
      "# why doesnt this work?\n",
      "# len(titanic_data[(titanic_data['Suvived'] == 1) & (titanic_data['Sex'] == 'female')]) / float(len(titanic_data[titanic_data['Sex] == 'female']))"
     ],
     "language": "python",
     "metadata": {},
     "outputs": [
      {
       "output_type": "stream",
       "stream": "stdout",
       "text": [
        "The female survival rate is 0.74\n"
       ]
      }
     ],
     "prompt_number": 20
    },
    {
     "cell_type": "code",
     "collapsed": false,
     "input": [
      "# 7. What is the avearage age of all passengers onboard?\n",
      "    # check the age data for missing values.\n",
      "    # It looks like there are 714 values"
     ],
     "language": "python",
     "metadata": {},
     "outputs": []
    },
    {
     "cell_type": "code",
     "collapsed": false,
     "input": [
      "avg_age = round(titanic_data['Age'].mean())\n",
      "\n",
      "print (\"The average age of passengers onboard is {}\").format(avg_age)"
     ],
     "language": "python",
     "metadata": {},
     "outputs": [
      {
       "output_type": "stream",
       "stream": "stdout",
       "text": [
        "The average age of passengers onboard is 30.0\n"
       ]
      }
     ],
     "prompt_number": 21
    },
    {
     "cell_type": "code",
     "collapsed": false,
     "input": [
      "titanic_data.describe()"
     ],
     "language": "python",
     "metadata": {},
     "outputs": [
      {
       "html": [
        "<div style=\"max-height:1000px;max-width:1500px;overflow:auto;\">\n",
        "<table border=\"1\" class=\"dataframe\">\n",
        "  <thead>\n",
        "    <tr style=\"text-align: right;\">\n",
        "      <th></th>\n",
        "      <th>PassengerId</th>\n",
        "      <th>Survived</th>\n",
        "      <th>Pclass</th>\n",
        "      <th>Age</th>\n",
        "      <th>SibSp</th>\n",
        "      <th>Parch</th>\n",
        "      <th>Fare</th>\n",
        "    </tr>\n",
        "  </thead>\n",
        "  <tbody>\n",
        "    <tr>\n",
        "      <th>count</th>\n",
        "      <td> 891.0</td>\n",
        "      <td> 891.0</td>\n",
        "      <td> 891.0</td>\n",
        "      <td> 714.0</td>\n",
        "      <td> 891.0</td>\n",
        "      <td> 891.0</td>\n",
        "      <td> 891.0</td>\n",
        "    </tr>\n",
        "    <tr>\n",
        "      <th>mean</th>\n",
        "      <td> 446.0</td>\n",
        "      <td>   0.4</td>\n",
        "      <td>   2.3</td>\n",
        "      <td>  29.7</td>\n",
        "      <td>   0.5</td>\n",
        "      <td>   0.4</td>\n",
        "      <td>  32.2</td>\n",
        "    </tr>\n",
        "    <tr>\n",
        "      <th>std</th>\n",
        "      <td> 257.4</td>\n",
        "      <td>   0.5</td>\n",
        "      <td>   0.8</td>\n",
        "      <td>  14.5</td>\n",
        "      <td>   1.1</td>\n",
        "      <td>   0.8</td>\n",
        "      <td>  49.7</td>\n",
        "    </tr>\n",
        "    <tr>\n",
        "      <th>min</th>\n",
        "      <td>   1.0</td>\n",
        "      <td>   0.0</td>\n",
        "      <td>   1.0</td>\n",
        "      <td>   0.4</td>\n",
        "      <td>   0.0</td>\n",
        "      <td>   0.0</td>\n",
        "      <td>   0.0</td>\n",
        "    </tr>\n",
        "    <tr>\n",
        "      <th>25%</th>\n",
        "      <td> 223.5</td>\n",
        "      <td>   0.0</td>\n",
        "      <td>   2.0</td>\n",
        "      <td>  20.1</td>\n",
        "      <td>   0.0</td>\n",
        "      <td>   0.0</td>\n",
        "      <td>   7.9</td>\n",
        "    </tr>\n",
        "    <tr>\n",
        "      <th>50%</th>\n",
        "      <td> 446.0</td>\n",
        "      <td>   0.0</td>\n",
        "      <td>   3.0</td>\n",
        "      <td>  28.0</td>\n",
        "      <td>   0.0</td>\n",
        "      <td>   0.0</td>\n",
        "      <td>  14.5</td>\n",
        "    </tr>\n",
        "    <tr>\n",
        "      <th>75%</th>\n",
        "      <td> 668.5</td>\n",
        "      <td>   1.0</td>\n",
        "      <td>   3.0</td>\n",
        "      <td>  38.0</td>\n",
        "      <td>   1.0</td>\n",
        "      <td>   0.0</td>\n",
        "      <td>  31.0</td>\n",
        "    </tr>\n",
        "    <tr>\n",
        "      <th>max</th>\n",
        "      <td> 891.0</td>\n",
        "      <td>   1.0</td>\n",
        "      <td>   3.0</td>\n",
        "      <td>  80.0</td>\n",
        "      <td>   8.0</td>\n",
        "      <td>   6.0</td>\n",
        "      <td> 512.3</td>\n",
        "    </tr>\n",
        "  </tbody>\n",
        "</table>\n",
        "</div>"
       ],
       "metadata": {},
       "output_type": "pyout",
       "prompt_number": 46,
       "text": [
        "       PassengerId  Survived  Pclass    Age  SibSp  Parch   Fare\n",
        "count        891.0     891.0   891.0  714.0  891.0  891.0  891.0\n",
        "mean         446.0       0.4     2.3   29.7    0.5    0.4   32.2\n",
        "std          257.4       0.5     0.8   14.5    1.1    0.8   49.7\n",
        "min            1.0       0.0     1.0    0.4    0.0    0.0    0.0\n",
        "25%          223.5       0.0     2.0   20.1    0.0    0.0    7.9\n",
        "50%          446.0       0.0     3.0   28.0    0.0    0.0   14.5\n",
        "75%          668.5       1.0     3.0   38.0    1.0    0.0   31.0\n",
        "max          891.0       1.0     3.0   80.0    8.0    6.0  512.3"
       ]
      }
     ],
     "prompt_number": 46
    },
    {
     "cell_type": "code",
     "collapsed": false,
     "input": [
      "# 7.a HOw did you calculate the average age?\n",
      "    #This calculates the average age for the values that are present. \n",
      "titanic_data['Age'].mean()"
     ],
     "language": "python",
     "metadata": {},
     "outputs": [
      {
       "metadata": {},
       "output_type": "pyout",
       "prompt_number": 47,
       "text": [
        "29.69911764705882"
       ]
      }
     ],
     "prompt_number": 47
    },
    {
     "cell_type": "code",
     "collapsed": false,
     "input": [
      "# 7.b How do you deal with missing values?\n",
      "    #I ignored the missing values and calculated it on the values that were available. \n",
      "    \n",
      "# 7.b What are some other ways of dealing with missing values?\n",
      "    # In class we assinged the average age for non missing values to the missing ages. \n",
      "    # Alternately the average age can be calculated across many demographic variables we have and assigned across those values. \n",
      "    # For example, we can calculate average age by gender.\n",
      "    # we can also calculate average age by class\n",
      "    # We can also calculate the avearage age by all of the variables like age, gender, survived and passenger class.\n",
      "    # We could also create age groupings and average across age ranges. So ages 0-10, 11-20, 20-30, etc\n"
     ],
     "language": "python",
     "metadata": {},
     "outputs": []
    },
    {
     "cell_type": "code",
     "collapsed": false,
     "input": [
      "#8. What is the average age of passengers who survived?"
     ],
     "language": "python",
     "metadata": {},
     "outputs": []
    },
    {
     "cell_type": "code",
     "collapsed": false,
     "input": [
      "avg_age_survived = round(survived['Age'].mean())\n",
      "\n",
      "print (\"The average age of the passengers who survived is {}\").format(avg_age_survived)"
     ],
     "language": "python",
     "metadata": {},
     "outputs": [
      {
       "output_type": "stream",
       "stream": "stdout",
       "text": [
        "The average age of the passengers who survived is 28.0\n"
       ]
      }
     ],
     "prompt_number": 22
    },
    {
     "cell_type": "code",
     "collapsed": false,
     "input": [
      "# 9. What is the average age of the passengers who did not survive?"
     ],
     "language": "python",
     "metadata": {},
     "outputs": []
    },
    {
     "cell_type": "code",
     "collapsed": false,
     "input": [
      "not_survived = titanic_data[titanic_data['Survived'] == 0]"
     ],
     "language": "python",
     "metadata": {},
     "outputs": [],
     "prompt_number": 24
    },
    {
     "cell_type": "code",
     "collapsed": false,
     "input": [
      "avg_age_not_survived = round(not_survived['Age'].mean())\n",
      "\n",
      "print (\"The average age of passengers who did not survied is {}\").format(avg_age_not_survived)"
     ],
     "language": "python",
     "metadata": {},
     "outputs": [
      {
       "output_type": "stream",
       "stream": "stdout",
       "text": [
        "The average age of passengers who did not survied is 31.0\n"
       ]
      }
     ],
     "prompt_number": 25
    },
    {
     "cell_type": "code",
     "collapsed": false,
     "input": [
      "#10 What might you infer about patterns?\n",
      "    #There is a higher percentage of women surviving than men and the average age of survived people is lower than \n",
      "    #those who did not survive, so presumably women and children first "
     ],
     "language": "python",
     "metadata": {},
     "outputs": []
    },
    {
     "cell_type": "code",
     "collapsed": false,
     "input": [
      "# 11. How many passengers are in each of the three classes of service?"
     ],
     "language": "python",
     "metadata": {},
     "outputs": []
    },
    {
     "cell_type": "code",
     "collapsed": false,
     "input": [
      "titanic_data['Pclass'].value_counts()"
     ],
     "language": "python",
     "metadata": {},
     "outputs": [
      {
       "metadata": {},
       "output_type": "pyout",
       "prompt_number": 51,
       "text": [
        "3    491\n",
        "1    216\n",
        "2    184\n",
        "dtype: int64"
       ]
      }
     ],
     "prompt_number": 51
    },
    {
     "cell_type": "code",
     "collapsed": false,
     "input": [
      "# 12. What is the survival rate of each of the three clases of service?"
     ],
     "language": "python",
     "metadata": {},
     "outputs": []
    },
    {
     "cell_type": "code",
     "collapsed": false,
     "input": [
      "# I'm sure there is  more elegant way to do this but I dont know how? \n",
      "first = np.round(len(survived[survived['Pclass'] == 1]) / float(len(titanic_data[titanic_data['Pclass'] == 1])), 2)\n",
      "second = np.round(len(survived[survived['Pclass'] == 2]) / float(len(titanic_data[titanic_data['Pclass'] == 2])), 2)\n",
      "third = np.round(len(survived[survived['Pclass'] == 3]) / float(len(titanic_data[titanic_data['Pclass'] == 3])),2)\n",
      "print (\"\"\"\n",
      "The survival rate for first class passengers is {}, \n",
      "the rate for second class passengers is {}, \n",
      "the rate for third class passengers is {}.\n",
      "\"\"\").format(first, second, third)"
     ],
     "language": "python",
     "metadata": {},
     "outputs": [
      {
       "output_type": "stream",
       "stream": "stdout",
       "text": [
        "\n",
        "The survival rate for first class passengers is 0.63, \n",
        "the rate for second class passengers is 0.47, \n",
        "the rate for third class passengers is 0.24.\n",
        "\n"
       ]
      }
     ],
     "prompt_number": 26
    },
    {
     "cell_type": "code",
     "collapsed": false,
     "input": [
      "# 13. What else might you conclude?\n",
      "    # That the survivers are divided across classes, such that the priority was given in order of class."
     ],
     "language": "python",
     "metadata": {},
     "outputs": []
    },
    {
     "cell_type": "code",
     "collapsed": false,
     "input": [
      "# 14. If we build a predictive model which features should be included and what can be left out and why?\n",
      "\n",
      "    # I think we can include most variables in some capacity. Since we know the trend is to get more first class women and children \n",
      "    # on the lifeboats it seems like we need age, class, and gender. But the ticket price might indicate something about who in the\n",
      "    # various classes survived. It might be that the people who paid more got lifeboat priority. This might get at the same thing \n",
      "    # as passenger class. Likewise, cabin location might indicate survival. If they are in a cabin far from an exit that might \n",
      "    # predict survival. The siblings, parents, and embarkation variables might increase survival rates. Survivers might have someone\n",
      "    # to look out for them and thus make it onto lifeboats.\n",
      "    \n",
      "    # I think the passengerID, name and ticket can be left out. These variables dont have any attributes that aid in prediction.\n",
      "    "
     ],
     "language": "python",
     "metadata": {},
     "outputs": []
    }
   ],
   "metadata": {}
  }
 ]
}